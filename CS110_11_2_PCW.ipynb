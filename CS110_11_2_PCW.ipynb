{
  "nbformat": 4,
  "nbformat_minor": 0,
  "metadata": {
    "colab": {
      "name": "CS110 11.2 PCW.ipynb",
      "provenance": [],
      "authorship_tag": "ABX9TyNBqfDqWOaPi5QCNtCQIHl9"
    },
    "kernelspec": {
      "name": "python3",
      "display_name": "Python 3"
    },
    "language_info": {
      "name": "python"
    }
  },
  "cells": [
    {
      "cell_type": "markdown",
      "metadata": {
        "id": "A-xdyVJctApx"
      },
      "source": [
        "###Question 1\n",
        "The following code cell defines a Python class called Minervan that you will use in an in-class activity. It needs to have the following attributes:\n",
        "\n",
        "Minervans Names\n",
        "Ways to store connections with other friends.\n",
        "\n",
        "\n",
        "For example, Ha is an M'23 who is friends with Esther, Trang, and Ha. How would you represent this information as a network or graph? Examine the code below and write the add_friends method. Provide evidence that your code is correct.\n",
        "\n",
        "\n",
        "\n",
        "Note: friendship is a bilateral relationship. If you are friends with Einstein, Einstein is friends with you! Don't forget that the methods inside the Python class should be aware of this notion. \n",
        "\n"
      ]
    },
    {
      "cell_type": "code",
      "metadata": {
        "colab": {
          "base_uri": "https://localhost:8080/"
        },
        "id": "e7JwP0yLtDMj",
        "outputId": "a440cbc9-9b9d-4971-f032-acb8ca77a428"
      },
      "source": [
        "class Minervan:\n",
        "    \"\"\"\n",
        "    A Minervan class\n",
        "\n",
        "    Attributes\n",
        "    ----------\n",
        "    name : str\n",
        "        The name of the Minervan\n",
        "    friends: set()\n",
        "        If available, the set of friends this Minervan has\n",
        "    \"\"\"\n",
        "    def __init__(self, name, friends=None):\n",
        "        self.name = name\n",
        "        self.friends_set = set()\n",
        "        if friends is not None:\n",
        "            for friend in friends:\n",
        "                self.friends_set.add(friend)\n",
        "                friend.friends_set.add(self)\n",
        "        \n",
        "        \n",
        "    def __repr__(self):\n",
        "        return f'{self.name}'\n",
        "\n",
        "\n",
        "    def add_friends(self, friends):\n",
        "        \"\"\"\n",
        "        Add either a single Minervan node\n",
        "        or multiple friends to the friend's list\n",
        "        and add the person to the friends' list\n",
        "        Parameters\n",
        "        ----------\n",
        "        friends: Minervan node/ arr\n",
        "            A singular Minervan node/ an array of Minervan nodes \n",
        "            to be added to the friends list\n",
        "        Returns\n",
        "        -------\n",
        "        None\n",
        "        \"\"\"\n",
        "        # your code here\n",
        "        if type(friends) == list:\n",
        "            for friend in friends:\n",
        "                self.friends_set.add(friend)\n",
        "                friend.friends_set.add(self)\n",
        "        else:\n",
        "            self.friends_set.add(friends)\n",
        "            friends.friends_set.add(self)\n",
        "        return None\n",
        "    \n",
        "    \n",
        "\n",
        "\n",
        "# testing your coding implementation\n",
        "trang = Minervan('Trang')\n",
        "esther = Minervan('Esther')\n",
        "ha = Minervan('Ha', friends = [esther, trang])\n",
        "print(trang.friends_set, esther.friends_set, ha.friends_set)\n",
        "trang.add_friends(trang)\n",
        "\n",
        "print(trang.friends_set, esther.friends_set)\n",
        "\n",
        "New = [Minervan('Steven'), Minervan('Prof. Richard'), Minervan('Takato'), Minervan('Yousaf'), Minervan('A random person')]\n",
        "\n",
        "ha.add_friends(New)\n",
        "\n",
        "print(ha.friends_set)\n",
        "# your code here"
      ],
      "execution_count": 6,
      "outputs": [
        {
          "output_type": "stream",
          "name": "stdout",
          "text": [
            "{Ha} {Ha} {Trang, Esther}\n",
            "{Trang, Ha} {Ha}\n",
            "{A random person, Trang, Esther, Steven, Yousaf, Takato, Prof. Richard}\n"
          ]
        }
      ]
    },
    {
      "cell_type": "markdown",
      "metadata": {
        "id": "RFIvhbaitKHV"
      },
      "source": [
        "### Question 2\n",
        "Consider the undirected graph below. The source vertex is the node with the value 1. The edges between the nodes are weighted by the numbers annotated in blue."
      ]
    },
    {
      "cell_type": "markdown",
      "metadata": {
        "id": "XDwJPzSTtOVc"
      },
      "source": [
        "At the end of this workbook, you will implement the Dijkstra's Algorithm on this graph. \n",
        "\n",
        "\n",
        "\n",
        "First, let's create this graph! At the end of the following code cell, you will need to add:\n",
        "\n",
        "nodes to the empty graph\n",
        "edges to connect the vertices\n",
        "weighted edges between the vertices. Notice that the edge weights for this specific graph are the same regardless of the direction. However, in general, this need not be the case. Ie., edge connecting 1 to 2 can have a weight of 9, whereas the edge starting at 2 and ending in 1 can have a different weight value. Notice how the implementation below takes that into account. "
      ]
    },
    {
      "cell_type": "code",
      "metadata": {
        "id": "7bhVCDCVtLqy"
      },
      "source": [
        "class Node:\n",
        "    ''' \n",
        "    Defining the Node class\n",
        "\n",
        "    Attributes:\n",
        "    name - name of the node\n",
        "    color - color of the node\n",
        "    pi - predecessor\n",
        "    dist - distance\n",
        "    adj_list - adjacency list\n",
        "    weighted - weights of the adjacency list\n",
        "    '''\n",
        "\n",
        "    BLACK = 'B'\n",
        "    GRAY = 'G'\n",
        "    WHITE = 'W'\n",
        "\n",
        "    def __init__(self, name, adj_list=None, weighted_adj_list=None):\n",
        "        self.name = name\n",
        "        self.color = Node.WHITE\n",
        "        self.pi = None\n",
        "        self.dist = float('inf')\n",
        "        self.adj_list = adj_list\n",
        "        self.weighted_adj_list = weighted_adj_list\n",
        "        if not adj_list:\n",
        "            self.adj_list = []\n",
        "        if not weighted_adj_list:\n",
        "            self.weighted_adj_list = {}\n",
        "\n",
        "    def add_edge(self, node, weight=0):\n",
        "        if node.name not in self.adj_list:\n",
        "            self.adj_list.append(node.name)\n",
        "\n",
        "    def remove_edge(self, node):\n",
        "        self.adj_list.remove(node.name)\n",
        "\n",
        "    def add_weighted_edge(self,node,weight=0):\n",
        "        self.weighted_adj_list[node.name] = weight\n",
        "\n",
        "    def remove_weighted_edge(self,node):\n",
        "        self.weighted_adj_list.pop(node.name, None)\n",
        "\n",
        "    def to_string(self):\n",
        "        res = self.name + ': [' + ' '.join(self.adj_list) + '] color: ' + self.color + ' dist: ' + str(self.dist)\n",
        "        if not self.pi:\n",
        "            res += ' pi: Nil'\n",
        "        else:\n",
        "            res += ' pi: ' + self.pi\n",
        "        return res\n",
        "\n",
        "    def to_string_w(self):\n",
        "        res = self.name + ': [' + ''.join(self.edge_string()) + '] dist: ' + str(self.dist)\n",
        "        if not self.pi:\n",
        "            res += ' pi: Nil'\n",
        "        else:\n",
        "            res += ' pi: ' + self.pi\n",
        "        return res\n",
        "\n",
        "    def edge_string(self):\n",
        "        res = ''\n",
        "        for k,v in self.weighted_adj_list.items():\n",
        "            res += '(' + k + ',' + str(v)+')'\n",
        "        return res\n",
        "\n",
        "class Graph:\n",
        "    ''' \n",
        "    Defining the Graph class\n",
        "    \n",
        "    Attributes:\n",
        "    nodes - nodes from Node class\n",
        "    '''\n",
        "\n",
        "    def __init__(self, nodes={}):\n",
        "        self.nodes = nodes\n",
        "\n",
        "    def add_node(self,node):\n",
        "        # initialising dictionaries\n",
        "        self.nodes[node.name] = node\n",
        "\n",
        "    def add_edge(self,n1,n2):\n",
        "        self.nodes[n1].add_edge(self.nodes[n2])\n",
        "\n",
        "    def remove_edge(self, n1, n2):\n",
        "        self.nodes[n1].remove_edge(self.nodes[n2])\n",
        "\n",
        "    def add_weighted_edge(self,n1,n2, weight):\n",
        "        self.nodes[n1].add_weighted_edge(self.nodes[n2], weight)\n",
        "\n",
        "    def remove_weighted_edge(self, n1, n2):\n",
        "        self.nodes[n1].remove_weighted_edge(self.nodes[n2])\n",
        "\n",
        "    def to_string(self):\n",
        "        res = \"\"\n",
        "        for n in self.nodes.keys():\n",
        "            res += self.nodes[n].to_string() + \", \"\n",
        "        return res\n",
        "\n",
        "\n",
        "g = Graph()\n",
        "# your code here to create the graph above\n",
        "a = Node('0')\n",
        "b = Node('1')\n",
        "c = Node('2')\n",
        "d = Node('3')\n",
        "\n",
        "nodes = [a, b, c, d]\n",
        "#Repeat adding nodes going node by node.\n",
        "for node in nodes:\n",
        "    g.add_node(node)\n",
        "    \n",
        "g.add_weighted_edge(a.name, b.name, 5)\n",
        "g.add_weighted_edge(b.name, a.name, 5)\n",
        "g.add_weighted_edge(a.name, c.name, 8)\n",
        "g.add_weighted_edge(c.name, a.name, 8)\n",
        "g.add_weighted_edge(b.name, c.name, 9)\n",
        "g.add_weighted_edge(c.name, b.name, 9)\n",
        "g.add_weighted_edge(b.name, d.name, 2)\n",
        "g.add_weighted_edge(d.name, b.name, 2)\n",
        "g.add_weighted_edge(c.name, d.name, 6)\n",
        "g.add_weighted_edge(d.name, c.name, 6)\n",
        "\n",
        "g.add_edge(a.name, b.name)\n",
        "g.add_edge(b.name, a.name)\n",
        "g.add_edge(a.name, c.name)\n",
        "g.add_edge(c.name, a.name)\n",
        "g.add_edge(b.name, c.name)\n",
        "g.add_edge(c.name, b.name)\n",
        "g.add_edge(b.name, d.name)\n",
        "g.add_edge(d.name, b.name)\n",
        "g.add_edge(c.name, d.name)\n",
        "g.add_edge(d.name, c.name)\n",
        "\n",
        "assert g.to_string() == '0: [1 2] color: W dist: inf pi: Nil, 1: [0 2 3] color: W dist: inf pi: Nil, 2: [0 1 3] color: W dist: inf pi: Nil, 3: [1 2] color: W dist: inf pi: Nil, '"
      ],
      "execution_count": 7,
      "outputs": []
    },
    {
      "cell_type": "markdown",
      "metadata": {
        "id": "m26lYGzwtVT4"
      },
      "source": [
        "### Question 3\n",
        "Write out the steps of the Dijkstra's algorithm for this example and find out the shortest distance for every node. Note that this is not a coding question! You will want to explain, in detail, how the algorithm works and use it to compute the shortest distance from the source node to every node in the graph.\n",
        "\n",
        "\n",
        "\n",
        "Explain, in no less than 40 words, how your answer to this question is a good application of #AlgorithmicStrategies (please include a word count as part of your assessment). For an appropriate justification, you need to reflect on how the steps of this algorithm allow you to correctly and efficiently find the shortest path between two nodes.\n",
        "\n"
      ]
    },
    {
      "cell_type": "markdown",
      "metadata": {
        "id": "nCk06LMmtZZz"
      },
      "source": [
        "Dijkstra's algorithm first defines all the distance of paths from the node as infinity. Setting an infinity helps the algorithm to find the shortest path in the future. The source node visits every node and updates the distance with the algorithm's value from each visit. After visiting all nodes that could visit, the algorithm moves on to the shortest path. This step iteratively repeats the process until when it finishes visiting all unvisited nodes.\n",
        "\n",
        "Each iteration will return the lowest path at the end. \n",
        "\n",
        "Firstly, our graph does not include any negative values. Dijkstra's algorithm is a great algorithm to apply here, at least in this graph. It is indeed a greedy algorithm; however, the graph is not too big or too complicated. This means that not much computational power will be required to use this algorithm. Also, it is better than calculating the whole distance but initially choosing the shortest path. Therefore it does not require storing the calculated path into some storage.\n",
        "At the end, non-existence of the negative value guarantess us to get the shortest path.\n",
        "\n",
        "- 155 words"
      ]
    },
    {
      "cell_type": "markdown",
      "metadata": {
        "id": "1HPUjULota7a"
      },
      "source": [
        "### Question 4\n",
        "Fill in the code below for the relax and extract_min functions. Please review the pseudocode from Cormen et al for the relaxfunction, and consider the guiding hints from the docstrings in the skeleton codes below for both functions.\n",
        "\n",
        "\n",
        "\n",
        "\n",
        "\n",
        "You will use these functions when you implement the Dijkstra's algorithm in the next question. \n",
        "\n"
      ]
    },
    {
      "cell_type": "code",
      "metadata": {
        "id": "eKih0PuHtTvy"
      },
      "source": [
        "def extract_min(nodes_list):\n",
        "    '''\n",
        "    Extract the node with min distance in a list with nodes\n",
        "    Parameters\n",
        "    ----------\n",
        "    nodes_list\n",
        "        A list with nodes inside\n",
        "    Returns\n",
        "    -------\n",
        "    Node \n",
        "        A node with min distance in the nodes list \n",
        "    '''\n",
        "    # your code here\n",
        "    x = min(nodes_list, key = lambda x:x.dist)\n",
        "    nodes_list.remove(x)\n",
        "    return x\n",
        "\n",
        "def relax(u,v):\n",
        "    '''\n",
        "    Perform edge relaxation by updating Node class's attribute\n",
        "    Parameters\n",
        "    ----------\n",
        "    u\n",
        "        A node \n",
        "    v \n",
        "        An adjacent node from u's outgoing edge\n",
        "    Returns\n",
        "    -------\n",
        "    None \n",
        "    '''\n",
        "    # your code here\n",
        "    if v.dist > u.dist + u.weighted_adj_list[v.name]:\n",
        "      v.dist = u.dist + u.weighted_adj_list[v.name]\n",
        "      v.pi = u\n",
        "        \n",
        "    return None"
      ],
      "execution_count": 9,
      "outputs": []
    },
    {
      "cell_type": "markdown",
      "metadata": {
        "id": "ZCKDzMeAtiFu"
      },
      "source": [
        "### Question 5\n",
        "Finally, complete the Dijkstra's Algorithm function using the pseudocode from Cormen et al. transcribed below to guide you:\n",
        "\n",
        "\n",
        "\n",
        "\n",
        "\n",
        "Note that there are several lines of explicit code missing, so you will find it helpful to work through the step-by-step directions provided in the study guide. Specifically:\n",
        "\n",
        "a. You will need to use both the extract_min and the relax functions you have coded above.\n",
        "\n",
        "b. Though it's not necessary to change the nodes' colors (white, gre/ay, and black) to run this algorithm, doing so (as Cormen et al. do) will be helpful to identify and distinguish the state of the nodes at each stage in the algorithm."
      ]
    },
    {
      "cell_type": "code",
      "metadata": {
        "id": "rSQe8D-utnHg"
      },
      "source": [
        "def dijkstra(G, s):\n",
        "    \"\"\"\n",
        "    Apply the Dijkstra Algorithm to find the shortest path of a graph.  \n",
        "    Parameters\n",
        "    ----------\n",
        "    G: \n",
        "        A graph\n",
        "    s:\n",
        "        A source node \n",
        "    Returns\n",
        "    -------\n",
        "    None \n",
        "    \"\"\"\n",
        "    visited = set()\n",
        "    s.color = Node.GRAY\n",
        "    s.dist = 0 \n",
        "    unvisited_queue = [G.nodes[v] for v in G.nodes.keys()]\n",
        "    while unvisited_queue:\n",
        "        # your block of code here: make sure to update the visited and unvisited queue objects\n",
        "        u = extract_min(unvisited_queue)\n",
        "        for vname,weight in u.weighted_adj_list.items(): \n",
        "        # your block of code here: make sure to use the relax function, where appropriate\n",
        "          relax(u, G.nodes[vname])\n",
        "    return None\n",
        "\n",
        "# Test your code on the graph above with the source node 1:\n",
        "s = g.nodes[\"1\"]\n",
        "dijkstra(g, s)\n",
        "shortest_path = []\n",
        "for v in g.nodes.keys():\n",
        "    shortest_path.append((g.nodes[v].name,g.nodes[v].dist))\n",
        "\n",
        "assert shortest_path == [('0', 5), ('1', 0), ('2', 8), ('3', 2)]"
      ],
      "execution_count": 11,
      "outputs": []
    },
    {
      "cell_type": "markdown",
      "metadata": {
        "id": "mBMjYBpFtrcQ"
      },
      "source": [
        "### Question 6\n",
        "What will happen to Dijkstra's Algorithm if negative weights exist in our graph? For example, what is the output when we change the source node to '0' and the distance of 2 → 1 = -5? Use this example to explain your answer.\n",
        "\n"
      ]
    },
    {
      "cell_type": "markdown",
      "metadata": {
        "id": "K2bA-NP7ttZ5"
      },
      "source": [
        "Q = [0,1,2,3]\n",
        "\n",
        "d[0] = 0\n",
        "\n",
        "d[1] = 5\n",
        "\n",
        "d[2] = 5 + 9 = 14\n",
        "\n",
        "d[3] = 7\n",
        "\n",
        "d[3] = 20\n",
        "here, d[3] = 7 because 7 < 20\n",
        "\n",
        "d[2] = 14\n",
        "d[2] = 13\n",
        "here, d[2] = 13 because 13 < 14\n",
        "Output = [0,5,13,7]"
      ]
    }
  ]
}